{
 "cells": [
  {
   "cell_type": "markdown",
   "id": "99e48a0f",
   "metadata": {},
   "source": [
    "# 1. Is the Python Standard Library included with PyInputPlus?\n",
    "\n",
    "ANSWER- PyInputPlus is not the part of the Python Standard Library.we must install it separately by using pip."
   ]
  },
  {
   "cell_type": "markdown",
   "id": "abe3f64f",
   "metadata": {},
   "source": [
    "# 2. Why is PyInputPlus commonly imported with import pyinputplus as pypi?\n",
    "\n",
    "ANSWER- PyInputPlus commonly imported with import pyinputplus as pypi so that you can enter a shorter name when calling the module's functions."
   ]
  },
  {
   "cell_type": "markdown",
   "id": "57c18e5f",
   "metadata": {},
   "source": [
    "# 3.How do you distinguish between inputInt() and inputFloat()?\n",
    "\n",
    "ANSWER- inputInt() : Accepts an integer value.This also takes additional parameters 'min','max','greater than','lesser than' for bounds.\n",
    "        inputFloat() : Accepts a floating point numeric value."
   ]
  },
  {
   "cell_type": "markdown",
   "id": "3a01287e",
   "metadata": {},
   "source": [
    "# 4. Using PyInputPlus, how do you ensure that the user enters a whole number between 0 and 99?\n",
    "\n",
    "ANSWER- By using pyip.inputint(min=0,max=99)."
   ]
  },
  {
   "cell_type": "markdown",
   "id": "d2fd92bc",
   "metadata": {},
   "source": [
    "# 5. What is transferred to the keyword arguments allowRegexes and blockRegexes?\n",
    "\n",
    "ANSWER- The allowRegexes and blockRegexes keyword arguments take a list of regular expression strings to determine what the PyInputPlus function will accept or reject as valid input.\n",
    "Example:given below"
   ]
  },
  {
   "cell_type": "code",
   "execution_count": 7,
   "id": "bab4eeff",
   "metadata": {},
   "outputs": [
    {
     "name": "stdout",
     "output_type": "stream",
     "text": [
      "Requirement already satisfied: pyinputplus in c:\\anaconda\\lib\\site-packages (0.2.12)\n",
      "Requirement already satisfied: pysimplevalidate>=0.2.7 in c:\\anaconda\\lib\\site-packages (from pyinputplus) (0.2.12)\n",
      "Requirement already satisfied: stdiomask>=0.0.3 in c:\\anaconda\\lib\\site-packages (from pyinputplus) (0.0.6)\n",
      "1\n",
      "This response is invalid.\n",
      "3\n",
      "This response is invalid.\n",
      "5\n",
      "This response is invalid.\n",
      "11\n",
      "This response is invalid.\n",
      "2\n"
     ]
    }
   ],
   "source": [
    "!pip install pyinputplus\n",
    "import pyinputplus as pyip\n",
    "s=pyip.inputNum(blockRegexes=[r'[1,,3,5,7,9]$'])#it will block all odd numbers only accepts even one."
   ]
  },
  {
   "cell_type": "markdown",
   "id": "2b116e6e",
   "metadata": {},
   "source": [
    "# 6. If a blank input is entered three times, what does inputStr(limit=3) do?\n",
    "\n",
    "ANSWER- It will throw RetryLimitException."
   ]
  },
  {
   "cell_type": "markdown",
   "id": "0455cc14",
   "metadata": {},
   "source": [
    "# 7. If blank input is entered three times, what does inputStr(limit=3, default='hello') do?\n",
    "\n",
    "ANSWWR- When you use limit keyword arguments and also pass a default keyword argument,the function returns default value instead of raising an exception. "
   ]
  },
  {
   "cell_type": "code",
   "execution_count": 9,
   "id": "35870fe4",
   "metadata": {},
   "outputs": [
    {
     "name": "stdout",
     "output_type": "stream",
     "text": [
      "\n",
      "Blank values are not allowed.\n",
      "\n",
      "Blank values are not allowed.\n",
      "\n",
      "Blank values are not allowed.\n"
     ]
    },
    {
     "data": {
      "text/plain": [
       "'hello'"
      ]
     },
     "execution_count": 9,
     "metadata": {},
     "output_type": "execute_result"
    }
   ],
   "source": [
    "s=pyip.inputStr(limit=3,default='hello')\n",
    "s"
   ]
  },
  {
   "cell_type": "markdown",
   "id": "f5a58a62",
   "metadata": {},
   "source": [
    "#######################################"
   ]
  }
 ],
 "metadata": {
  "kernelspec": {
   "display_name": "Python 3 (ipykernel)",
   "language": "python",
   "name": "python3"
  },
  "language_info": {
   "codemirror_mode": {
    "name": "ipython",
    "version": 3
   },
   "file_extension": ".py",
   "mimetype": "text/x-python",
   "name": "python",
   "nbconvert_exporter": "python",
   "pygments_lexer": "ipython3",
   "version": "3.9.12"
  }
 },
 "nbformat": 4,
 "nbformat_minor": 5
}
